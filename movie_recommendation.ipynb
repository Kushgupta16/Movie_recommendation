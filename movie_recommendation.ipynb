{
  "nbformat": 4,
  "nbformat_minor": 0,
  "metadata": {
    "colab": {
      "provenance": [],
      "authorship_tag": "ABX9TyOi/BkNetlMmZWqK7PiYtDI",
      "include_colab_link": true
    },
    "kernelspec": {
      "name": "python3",
      "display_name": "Python 3"
    },
    "language_info": {
      "name": "python"
    }
  },
  "cells": [
    {
      "cell_type": "markdown",
      "metadata": {
        "id": "view-in-github",
        "colab_type": "text"
      },
      "source": [
        "<a href=\"https://colab.research.google.com/github/Kushgupta16/Movie_recommendation/blob/main/movie_recommendation.ipynb\" target=\"_parent\"><img src=\"https://colab.research.google.com/assets/colab-badge.svg\" alt=\"Open In Colab\"/></a>"
      ]
    },
    {
      "cell_type": "code",
      "execution_count": null,
      "metadata": {
        "id": "f7mYMsMrG7xx"
      },
      "outputs": [],
      "source": [
        "import pandas as pd\n",
        "import numpy as np\n",
        "from sklearn.feature_extraction.text import CountVectorizer\n",
        "from sklearn.metrics.pairwise import cosine_similarity"
      ]
    },
    {
      "cell_type": "code",
      "source": [
        "from google.colab import drive\n",
        "drive.mount('/content/drive')"
      ],
      "metadata": {
        "id": "XLC8WYUEJqw9"
      },
      "execution_count": null,
      "outputs": []
    },
    {
      "cell_type": "code",
      "source": [
        "import os\n",
        "work_dir=\"/content/drive/MyDrive/SKILLIT Courses/AI Level 2/Clustering/Movie_recommendation\"\n",
        "os.chdir(work_dir)"
      ],
      "metadata": {
        "id": "gaJjkBB-MdQO"
      },
      "execution_count": null,
      "outputs": []
    },
    {
      "cell_type": "code",
      "source": [
        "df=pd.read_csv(\"movie_dataset.csv\")\n",
        "print(df.columns)"
      ],
      "metadata": {
        "id": "0IIOGVPsMdh9"
      },
      "execution_count": null,
      "outputs": []
    },
    {
      "cell_type": "code",
      "source": [
        "def get_title_from_index(index):\n",
        "  return df[df.index==index][\"title\"].values[0]\n",
        "\n",
        "def get_index_from_title(title):\n",
        "  # Check if the title exists in the DataFrame\n",
        "  if df[df.title==title].empty:\n",
        "    return -1 # Return -1 or None to indicate that the movie was not found\n",
        "  return df[df.title==title][\"index\"].values[0]"
      ],
      "metadata": {
        "id": "E2xs7WB1Rsl6"
      },
      "execution_count": null,
      "outputs": []
    },
    {
      "cell_type": "code",
      "source": [
        "features=['keywords','cast','genres','director']\n",
        "\n",
        "for feature in features:\n",
        "  df[feature]=df[feature].fillna(\"\")"
      ],
      "metadata": {
        "id": "vw22vdWKRuz8"
      },
      "execution_count": null,
      "outputs": []
    },
    {
      "cell_type": "code",
      "source": [
        "def combine_features(row):\n",
        "  try:\n",
        "    text=row['keywords']+\" \"+row['cast']+\" \"+row['genres']+\" \"+row['director']\n",
        "    return text\n",
        "  except:\n",
        "    print(\"Error:\",row['index'])"
      ],
      "metadata": {
        "id": "Zs3HNIZs1Gj1"
      },
      "execution_count": null,
      "outputs": []
    },
    {
      "cell_type": "code",
      "source": [
        "df[\"combined_features\"]=df.apply(combine_features,axis=1)"
      ],
      "metadata": {
        "id": "k9vat3KZ-OQL"
      },
      "execution_count": null,
      "outputs": []
    },
    {
      "cell_type": "code",
      "source": [
        "df['combined_features']"
      ],
      "metadata": {
        "id": "BziTBm0--QJx"
      },
      "execution_count": null,
      "outputs": []
    },
    {
      "cell_type": "code",
      "source": [
        "cv=CountVectorizer()\n",
        "count_matrix=cv.fit_transform(df[\"combined_features\"])"
      ],
      "metadata": {
        "id": "CvA--5er-Rnu"
      },
      "execution_count": null,
      "outputs": []
    },
    {
      "cell_type": "code",
      "source": [
        "cosine_sim=cosine_similarity(count_matrix)"
      ],
      "metadata": {
        "id": "rO9MWhtfBQAE"
      },
      "execution_count": null,
      "outputs": []
    },
    {
      "cell_type": "code",
      "source": [
        "def movie_finder():\n",
        "  movie_user_likes=input(\"which is your favourite movie?\")\n",
        "  movie_index=get_index_from_title(movie_user_likes)\n",
        "\n",
        "  # Check if the movie was found\n",
        "  if movie_index == -1:\n",
        "    print(\"Sorry, the movie you entered was not found in the database.\")\n",
        "    return # Exit the function if the movie is not found"
      ],
      "metadata": {
        "id": "cV230xnyBUat"
      },
      "execution_count": null,
      "outputs": []
    }
  ]
}